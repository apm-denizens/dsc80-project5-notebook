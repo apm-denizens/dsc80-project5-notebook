{
 "cells": [
  {
   "attachments": {},
   "cell_type": "markdown",
   "metadata": {},
   "source": [
    "# Your Title Here\n",
    "\n",
    "**Name(s)**: (your name(s) here)\n",
    "\n",
    "**Website Link**: (your website link)"
   ]
  },
  {
   "attachments": {},
   "cell_type": "markdown",
   "metadata": {},
   "source": [
    "## Code"
   ]
  },
  {
   "cell_type": "code",
   "execution_count": 86,
   "metadata": {
    "ExecuteTime": {
     "end_time": "2019-10-31T23:36:28.652554Z",
     "start_time": "2019-10-31T23:36:27.180520Z"
    }
   },
   "outputs": [],
   "source": [
    "import os\n",
    "import pandas as pd\n",
    "import numpy as np\n",
    "\n",
    "from sklearn.model_selection import train_test_split\n",
    "from sklearn.preprocessing import FunctionTransformer\n",
    "from sklearn.preprocessing import OneHotEncoder\n",
    "from sklearn.preprocessing import StandardScaler\n",
    "from sklearn.impute import SimpleImputer\n",
    "\n",
    "from sklearn.pipeline import Pipeline\n",
    "from sklearn.compose import ColumnTransformer\n",
    "from sklearn.ensemble import RandomForestClassifier\n",
    "\n",
    "import plotly.express as px\n",
    "import plotly.graph_objs as go\n",
    "\n",
    "from IPython.display import display\n",
    "\n",
    "import black"
   ]
  },
  {
   "attachments": {},
   "cell_type": "markdown",
   "metadata": {},
   "source": [
    "### Framing the Problem"
   ]
  },
  {
   "cell_type": "code",
   "execution_count": null,
   "metadata": {
    "ExecuteTime": {
     "end_time": "2019-10-31T23:36:28.657068Z",
     "start_time": "2019-10-31T23:36:28.654650Z"
    }
   },
   "outputs": [],
   "source": [
    "# TODO\n",
    "\n",
    "\"\"\"\n",
    "League of Legends Competitive Matches:\n",
    "\n",
    "Predict if a team will win or lose a game.\n",
    "Predict which role (top-lane, jungle, support, etc.) a player played given their post-game data.\n",
    "Predict how long a game will take before it happens.\n",
    "Predict which team will get the first Baron.\n",
    "\"\"\""
   ]
  },
  {
   "attachments": {},
   "cell_type": "markdown",
   "metadata": {},
   "source": [
    "### Cleaning\n",
    "\n",
    "Code copied from our project 3. We as well are only interested in the player-related rows. Team-related rows have been dropped. "
   ]
  },
  {
   "cell_type": "code",
   "execution_count": 4,
   "metadata": {},
   "outputs": [
    {
     "name": "stderr",
     "output_type": "stream",
     "text": [
      "/Users/elim-mbp-01/.pyenv/versions/3.8.16/envs/dsc80_39/lib/python3.8/site-packages/IPython/core/interactiveshell.py:3505: DtypeWarning: Columns (2) have mixed types.Specify dtype option on import or set low_memory=False.\n",
      "  exec(code_obj, self.user_global_ns, self.user_ns)\n"
     ]
    },
    {
     "data": {
      "text/plain": [
       "gameid               object\n",
       "datacompleteness     object\n",
       "url                  object\n",
       "league               object\n",
       "year                  int64\n",
       "                     ...   \n",
       "assistsat15         float64\n",
       "deathsat15          float64\n",
       "opp_killsat15       float64\n",
       "opp_assistsat15     float64\n",
       "opp_deathsat15      float64\n",
       "Length: 123, dtype: object"
      ]
     },
     "execution_count": 4,
     "metadata": {},
     "output_type": "execute_result"
    }
   ],
   "source": [
    "# Load Dataset\n",
    "league_fp = os.path.join('data', '2022_LoL_esports_match_data_from_OraclesElixir.csv')\n",
    "league_raw = pd.read_csv(league_fp)\n",
    "\n",
    "league_raw.dtypes"
   ]
  },
  {
   "cell_type": "code",
   "execution_count": 5,
   "metadata": {},
   "outputs": [
    {
     "name": "stdout",
     "output_type": "stream",
     "text": [
      "26 team-related columns removed\n",
      "CONVERTED 6 COLUMNS TO BOOL\n",
      "<class 'pandas.core.frame.DataFrame'>\n",
      "Int64Index: 124500 entries, 0 to 149397\n",
      "Data columns (total 97 columns):\n",
      " #   Column                    Non-Null Count   Dtype  \n",
      "---  ------                    --------------   -----  \n",
      " 0   gameid                    124500 non-null  string \n",
      " 1   datacompleteness          124500 non-null  string \n",
      " 2   url                       18680 non-null   string \n",
      " 3   league                    124500 non-null  string \n",
      " 4   year                      124500 non-null  Int64  \n",
      " 5   split                     90070 non-null   string \n",
      " 6   playoffs                  124500 non-null  boolean\n",
      " 7   date                      124500 non-null  string \n",
      " 8   game                      124500 non-null  Int64  \n",
      " 9   patch                     124410 non-null  Float64\n",
      " 10  participantid             124500 non-null  Int64  \n",
      " 11  side                      124500 non-null  string \n",
      " 12  position                  124500 non-null  string \n",
      " 13  playername                122334 non-null  string \n",
      " 14  playerid                  122331 non-null  string \n",
      " 15  teamname                  124455 non-null  string \n",
      " 16  teamid                    122730 non-null  string \n",
      " 17  champion                  124500 non-null  string \n",
      " 18  ban1                      122555 non-null  string \n",
      " 19  ban2                      122665 non-null  string \n",
      " 20  ban3                      122400 non-null  string \n",
      " 21  ban4                      122510 non-null  string \n",
      " 22  ban5                      122240 non-null  string \n",
      " 23  gamelength                124500 non-null  Int64  \n",
      " 24  result                    124500 non-null  boolean\n",
      " 25  kills                     124500 non-null  Int64  \n",
      " 26  deaths                    124500 non-null  Int64  \n",
      " 27  assists                   124500 non-null  Int64  \n",
      " 28  teamkills                 124500 non-null  Int64  \n",
      " 29  teamdeaths                124500 non-null  Int64  \n",
      " 30  doublekills               106310 non-null  Int64  \n",
      " 31  triplekills               106310 non-null  Int64  \n",
      " 32  quadrakills               106310 non-null  Int64  \n",
      " 33  pentakills                106310 non-null  Int64  \n",
      " 34  firstblood                124500 non-null  boolean\n",
      " 35  firstbloodkill            124500 non-null  boolean\n",
      " 36  firstbloodassist          124500 non-null  boolean\n",
      " 37  firstbloodvictim          124500 non-null  boolean\n",
      " 38  team kpm                  124500 non-null  Float64\n",
      " 39  ckpm                      124500 non-null  Float64\n",
      " 40  barons                    102600 non-null  Int64  \n",
      " 41  opp_barons                102600 non-null  Int64  \n",
      " 42  inhibitors                103040 non-null  Int64  \n",
      " 43  opp_inhibitors            103040 non-null  Int64  \n",
      " 44  damagetochampions         124490 non-null  Int64  \n",
      " 45  dpm                       124490 non-null  Float64\n",
      " 46  damageshare               124490 non-null  Float64\n",
      " 47  damagetakenperminute      124490 non-null  Float64\n",
      " 48  damagemitigatedperminute  106310 non-null  Float64\n",
      " 49  wardsplaced               124490 non-null  Int64  \n",
      " 50  wpm                       124490 non-null  Float64\n",
      " 51  wardskilled               124490 non-null  Int64  \n",
      " 52  wcpm                      124490 non-null  Float64\n",
      " 53  controlwardsbought        124490 non-null  Int64  \n",
      " 54  visionscore               124490 non-null  Int64  \n",
      " 55  vspm                      124490 non-null  Float64\n",
      " 56  totalgold                 124500 non-null  Int64  \n",
      " 57  earnedgold                124500 non-null  Int64  \n",
      " 58  earned gpm                124500 non-null  Float64\n",
      " 59  earnedgoldshare           124500 non-null  Float64\n",
      " 60  goldspent                 124490 non-null  Int64  \n",
      " 61  total cs                  124500 non-null  Int64  \n",
      " 62  minionkills               124490 non-null  Int64  \n",
      " 63  monsterkills              124490 non-null  Int64  \n",
      " 64  monsterkillsownjungle     18620 non-null   Int64  \n",
      " 65  monsterkillsenemyjungle   18620 non-null   Int64  \n",
      " 66  cspm                      124500 non-null  Float64\n",
      " 67  goldat10                  106310 non-null  Int64  \n",
      " 68  xpat10                    106310 non-null  Int64  \n",
      " 69  csat10                    106310 non-null  Int64  \n",
      " 70  opp_goldat10              106310 non-null  Int64  \n",
      " 71  opp_xpat10                106310 non-null  Int64  \n",
      " 72  opp_csat10                106310 non-null  Int64  \n",
      " 73  golddiffat10              106310 non-null  Int64  \n",
      " 74  xpdiffat10                106310 non-null  Int64  \n",
      " 75  csdiffat10                106310 non-null  Int64  \n",
      " 76  killsat10                 106310 non-null  Int64  \n",
      " 77  assistsat10               106310 non-null  Int64  \n",
      " 78  deathsat10                106310 non-null  Int64  \n",
      " 79  opp_killsat10             106310 non-null  Int64  \n",
      " 80  opp_assistsat10           106310 non-null  Int64  \n",
      " 81  opp_deathsat10            106310 non-null  Int64  \n",
      " 82  goldat15                  106310 non-null  Int64  \n",
      " 83  xpat15                    106310 non-null  Int64  \n",
      " 84  csat15                    106310 non-null  Int64  \n",
      " 85  opp_goldat15              106310 non-null  Int64  \n",
      " 86  opp_xpat15                106310 non-null  Int64  \n",
      " 87  opp_csat15                106310 non-null  Int64  \n",
      " 88  golddiffat15              106310 non-null  Int64  \n",
      " 89  xpdiffat15                106310 non-null  Int64  \n",
      " 90  csdiffat15                106310 non-null  Int64  \n",
      " 91  killsat15                 106310 non-null  Int64  \n",
      " 92  assistsat15               106310 non-null  Int64  \n",
      " 93  deathsat15                106310 non-null  Int64  \n",
      " 94  opp_killsat15             106310 non-null  Int64  \n",
      " 95  opp_assistsat15           106310 non-null  Int64  \n",
      " 96  opp_deathsat15            106310 non-null  Int64  \n",
      "dtypes: Float64(13), Int64(60), boolean(6), string(18)\n",
      "memory usage: 97.5 MB\n"
     ]
    }
   ],
   "source": [
    "# =======================\n",
    "# CLEANING \n",
    "# =======================\n",
    "\n",
    "league = league_raw.copy()\n",
    "\n",
    "# =======================================================\n",
    "# Some rows are marked with datacompleteness = \"partial\"/\"ignore\".\n",
    "# According to Costin, this label just means that there's a NaN value in the row (excluding NaN's from team/player related columns)\n",
    "# Will not ignore.\n",
    "# league = league[league[\"datacompleteness\"] == \"complete\"]\n",
    "# =======================================================\n",
    "\n",
    "# =======================================================\n",
    "# Each 'gameid' corresponds to up to 12 rows – one for each of the 5 players on both teams and 2 containing summary data for the two teams (try to find out what distinguishes those rows). After selecting your line of inquiry, make sure to remove either the player rows or the team rows so as not to have issues later in your analysis.\n",
    "\n",
    "# 24900 rows without a champion \n",
    "# (league_raw[\"champion\"].isna()).sum()\n",
    "# 149400 rows total. 12 rows per match. 149400 / 12 = 12450 matches. \n",
    "# 12450 * 2 = 24900 team related rows\n",
    "# (149400 / 12) = 12450 matches. 12450 * 2 = 24900\n",
    "# Filtering by whether there's a champion listed or not, should get only the player related rows\n",
    "league = league[league[\"champion\"].notna()]\n",
    "\n",
    "# Also drop the team related columns. Every single value in those columns should be null for the player related rows\n",
    "team_columns_mask = league.isnull().sum(axis=0) == league.shape[0]\n",
    "league = league.drop(columns=league.columns[team_columns_mask])\n",
    "print(f\"{team_columns_mask.sum()} team-related columns removed\")\n",
    "# =======================================================\n",
    "\n",
    "# =======================================================\n",
    "# NaN values for players are represented as \"unkown player\"\n",
    "# Mark these as NaN\n",
    "league[\"playername\"] = league[\"playername\"].apply(lambda val: np.nan if val == \"unknown player\" else val)\n",
    "# =======================================================\n",
    "\n",
    "\n",
    "# =======================================================\n",
    "# Many columns should be of type bool but are not.\n",
    "# Checks each column to see if the set of unique values is {0, 1}\n",
    "# If so, converts the column to bool\n",
    "columns_to_bool = []\n",
    "for column in league.columns:\n",
    "    value_counts = league[column].value_counts()\n",
    "    if set(value_counts.index) == {0, 1}:\n",
    "        columns_to_bool.append(column)\n",
    "        league[column] = league[column].astype(bool)\n",
    "print(f\"CONVERTED {len(columns_to_bool)} COLUMNS TO BOOL\")\n",
    "# =======================================================\n",
    "\n",
    "# =======================================================\n",
    "league = league.convert_dtypes()\n",
    "league.info()\n",
    "# ======================================================="
   ]
  },
  {
   "cell_type": "code",
   "execution_count": 7,
   "metadata": {},
   "outputs": [
    {
     "data": {
      "text/html": [
       "<div>\n",
       "<style scoped>\n",
       "    .dataframe tbody tr th:only-of-type {\n",
       "        vertical-align: middle;\n",
       "    }\n",
       "\n",
       "    .dataframe tbody tr th {\n",
       "        vertical-align: top;\n",
       "    }\n",
       "\n",
       "    .dataframe thead th {\n",
       "        text-align: right;\n",
       "    }\n",
       "</style>\n",
       "<table border=\"1\" class=\"dataframe\">\n",
       "  <thead>\n",
       "    <tr style=\"text-align: right;\">\n",
       "      <th></th>\n",
       "      <th>gameid</th>\n",
       "      <th>datacompleteness</th>\n",
       "      <th>url</th>\n",
       "      <th>league</th>\n",
       "      <th>year</th>\n",
       "      <th>split</th>\n",
       "      <th>playoffs</th>\n",
       "      <th>date</th>\n",
       "      <th>game</th>\n",
       "      <th>patch</th>\n",
       "      <th>...</th>\n",
       "      <th>opp_csat15</th>\n",
       "      <th>golddiffat15</th>\n",
       "      <th>xpdiffat15</th>\n",
       "      <th>csdiffat15</th>\n",
       "      <th>killsat15</th>\n",
       "      <th>assistsat15</th>\n",
       "      <th>deathsat15</th>\n",
       "      <th>opp_killsat15</th>\n",
       "      <th>opp_assistsat15</th>\n",
       "      <th>opp_deathsat15</th>\n",
       "    </tr>\n",
       "  </thead>\n",
       "  <tbody>\n",
       "    <tr>\n",
       "      <th>0</th>\n",
       "      <td>ESPORTSTMNT01_2690210</td>\n",
       "      <td>complete</td>\n",
       "      <td>&lt;NA&gt;</td>\n",
       "      <td>LCK CL</td>\n",
       "      <td>2022</td>\n",
       "      <td>Spring</td>\n",
       "      <td>False</td>\n",
       "      <td>2022-01-10 07:44:08</td>\n",
       "      <td>1</td>\n",
       "      <td>12.01</td>\n",
       "      <td>...</td>\n",
       "      <td>121</td>\n",
       "      <td>391</td>\n",
       "      <td>345</td>\n",
       "      <td>14</td>\n",
       "      <td>0</td>\n",
       "      <td>1</td>\n",
       "      <td>0</td>\n",
       "      <td>0</td>\n",
       "      <td>1</td>\n",
       "      <td>0</td>\n",
       "    </tr>\n",
       "    <tr>\n",
       "      <th>1</th>\n",
       "      <td>ESPORTSTMNT01_2690210</td>\n",
       "      <td>complete</td>\n",
       "      <td>&lt;NA&gt;</td>\n",
       "      <td>LCK CL</td>\n",
       "      <td>2022</td>\n",
       "      <td>Spring</td>\n",
       "      <td>False</td>\n",
       "      <td>2022-01-10 07:44:08</td>\n",
       "      <td>1</td>\n",
       "      <td>12.01</td>\n",
       "      <td>...</td>\n",
       "      <td>100</td>\n",
       "      <td>541</td>\n",
       "      <td>-275</td>\n",
       "      <td>-11</td>\n",
       "      <td>2</td>\n",
       "      <td>3</td>\n",
       "      <td>2</td>\n",
       "      <td>0</td>\n",
       "      <td>5</td>\n",
       "      <td>1</td>\n",
       "    </tr>\n",
       "    <tr>\n",
       "      <th>2</th>\n",
       "      <td>ESPORTSTMNT01_2690210</td>\n",
       "      <td>complete</td>\n",
       "      <td>&lt;NA&gt;</td>\n",
       "      <td>LCK CL</td>\n",
       "      <td>2022</td>\n",
       "      <td>Spring</td>\n",
       "      <td>False</td>\n",
       "      <td>2022-01-10 07:44:08</td>\n",
       "      <td>1</td>\n",
       "      <td>12.01</td>\n",
       "      <td>...</td>\n",
       "      <td>119</td>\n",
       "      <td>-475</td>\n",
       "      <td>153</td>\n",
       "      <td>1</td>\n",
       "      <td>0</td>\n",
       "      <td>3</td>\n",
       "      <td>0</td>\n",
       "      <td>3</td>\n",
       "      <td>3</td>\n",
       "      <td>2</td>\n",
       "    </tr>\n",
       "    <tr>\n",
       "      <th>3</th>\n",
       "      <td>ESPORTSTMNT01_2690210</td>\n",
       "      <td>complete</td>\n",
       "      <td>&lt;NA&gt;</td>\n",
       "      <td>LCK CL</td>\n",
       "      <td>2022</td>\n",
       "      <td>Spring</td>\n",
       "      <td>False</td>\n",
       "      <td>2022-01-10 07:44:08</td>\n",
       "      <td>1</td>\n",
       "      <td>12.01</td>\n",
       "      <td>...</td>\n",
       "      <td>149</td>\n",
       "      <td>-793</td>\n",
       "      <td>-1343</td>\n",
       "      <td>-34</td>\n",
       "      <td>2</td>\n",
       "      <td>1</td>\n",
       "      <td>2</td>\n",
       "      <td>3</td>\n",
       "      <td>3</td>\n",
       "      <td>0</td>\n",
       "    </tr>\n",
       "    <tr>\n",
       "      <th>4</th>\n",
       "      <td>ESPORTSTMNT01_2690210</td>\n",
       "      <td>complete</td>\n",
       "      <td>&lt;NA&gt;</td>\n",
       "      <td>LCK CL</td>\n",
       "      <td>2022</td>\n",
       "      <td>Spring</td>\n",
       "      <td>False</td>\n",
       "      <td>2022-01-10 07:44:08</td>\n",
       "      <td>1</td>\n",
       "      <td>12.01</td>\n",
       "      <td>...</td>\n",
       "      <td>21</td>\n",
       "      <td>443</td>\n",
       "      <td>-497</td>\n",
       "      <td>7</td>\n",
       "      <td>1</td>\n",
       "      <td>2</td>\n",
       "      <td>2</td>\n",
       "      <td>0</td>\n",
       "      <td>6</td>\n",
       "      <td>2</td>\n",
       "    </tr>\n",
       "  </tbody>\n",
       "</table>\n",
       "<p>5 rows × 97 columns</p>\n",
       "</div>"
      ],
      "text/plain": [
       "                  gameid datacompleteness   url  league  year   split  \\\n",
       "0  ESPORTSTMNT01_2690210         complete  <NA>  LCK CL  2022  Spring   \n",
       "1  ESPORTSTMNT01_2690210         complete  <NA>  LCK CL  2022  Spring   \n",
       "2  ESPORTSTMNT01_2690210         complete  <NA>  LCK CL  2022  Spring   \n",
       "3  ESPORTSTMNT01_2690210         complete  <NA>  LCK CL  2022  Spring   \n",
       "4  ESPORTSTMNT01_2690210         complete  <NA>  LCK CL  2022  Spring   \n",
       "\n",
       "   playoffs                 date  game  patch  ...  opp_csat15 golddiffat15  \\\n",
       "0     False  2022-01-10 07:44:08     1  12.01  ...         121          391   \n",
       "1     False  2022-01-10 07:44:08     1  12.01  ...         100          541   \n",
       "2     False  2022-01-10 07:44:08     1  12.01  ...         119         -475   \n",
       "3     False  2022-01-10 07:44:08     1  12.01  ...         149         -793   \n",
       "4     False  2022-01-10 07:44:08     1  12.01  ...          21          443   \n",
       "\n",
       "  xpdiffat15 csdiffat15 killsat15 assistsat15 deathsat15 opp_killsat15  \\\n",
       "0        345         14         0           1          0             0   \n",
       "1       -275        -11         2           3          2             0   \n",
       "2        153          1         0           3          0             3   \n",
       "3      -1343        -34         2           1          2             3   \n",
       "4       -497          7         1           2          2             0   \n",
       "\n",
       "  opp_assistsat15 opp_deathsat15  \n",
       "0               1              0  \n",
       "1               5              1  \n",
       "2               3              2  \n",
       "3               3              0  \n",
       "4               6              2  \n",
       "\n",
       "[5 rows x 97 columns]"
      ]
     },
     "execution_count": 7,
     "metadata": {},
     "output_type": "execute_result"
    }
   ],
   "source": [
    "league.head()"
   ]
  },
  {
   "attachments": {},
   "cell_type": "markdown",
   "metadata": {},
   "source": [
    "### Generating Train/Val/Test Splits"
   ]
  },
  {
   "cell_type": "code",
   "execution_count": 11,
   "metadata": {},
   "outputs": [
    {
     "data": {
      "text/plain": [
       "top    24900\n",
       "jng    24900\n",
       "mid    24900\n",
       "bot    24900\n",
       "sup    24900\n",
       "Name: position, dtype: Int64"
      ]
     },
     "execution_count": 11,
     "metadata": {},
     "output_type": "execute_result"
    }
   ],
   "source": [
    "league[\"position\"].value_counts()"
   ]
  },
  {
   "cell_type": "code",
   "execution_count": 8,
   "metadata": {},
   "outputs": [
    {
     "data": {
      "text/plain": [
       "(124500, 97)"
      ]
     },
     "execution_count": 8,
     "metadata": {},
     "output_type": "execute_result"
    }
   ],
   "source": [
    "league.shape"
   ]
  },
  {
   "cell_type": "code",
   "execution_count": 13,
   "metadata": {},
   "outputs": [],
   "source": [
    "X = league.drop(columns=[\"position\"])\n",
    "y = league[\"position\"]\n",
    "\n",
    "X_2, X_test, y_2, y_test = train_test_split(X, y, test_size=0.2, random_state=16)\n",
    "X_train, X_val, y_train, y_val = train_test_split(X_2, y_2, test_size=0.25, random_state=16) \n",
    "# 0.8 * 0.25 = 0.2\n"
   ]
  },
  {
   "cell_type": "code",
   "execution_count": 14,
   "metadata": {},
   "outputs": [
    {
     "data": {
      "text/plain": [
       "(74700, 96)"
      ]
     },
     "execution_count": 14,
     "metadata": {},
     "output_type": "execute_result"
    }
   ],
   "source": [
    "X_train.shape"
   ]
  },
  {
   "attachments": {},
   "cell_type": "markdown",
   "metadata": {},
   "source": [
    "### Baseline Model"
   ]
  },
  {
   "cell_type": "code",
   "execution_count": 58,
   "metadata": {},
   "outputs": [
    {
     "data": {
      "text/plain": [
       "0"
      ]
     },
     "execution_count": 58,
     "metadata": {},
     "output_type": "execute_result"
    }
   ],
   "source": [
    "(league[\"kills\"] / league[\"deaths\"]).astype(\"float32\").replace(np.inf, np.NaN).fillna(0).isna().sum()"
   ]
  },
  {
   "cell_type": "code",
   "execution_count": 50,
   "metadata": {},
   "outputs": [
    {
     "data": {
      "text/plain": [
       "0"
      ]
     },
     "execution_count": 50,
     "metadata": {},
     "output_type": "execute_result"
    }
   ],
   "source": [
    "league[\"champion\"].isna().sum()"
   ]
  },
  {
   "cell_type": "code",
   "execution_count": null,
   "metadata": {},
   "outputs": [],
   "source": [
    "\n",
    "\"\"\"\n",
    "GitHub Copilot: Normalization is not strictly necessary for random forests, as decision trees (the building blocks of random forests) are not sensitive to the scale of the features. However, normalization can still be beneficial in some cases, particularly if the features have very different scales or if you are using other algorithms in conjunction with random forests that are sensitive to feature scaling.\n",
    "\n",
    "For example, if you have a dataset with two features, one of which has values in the range of 0 to 1 and the other of which has values in the range of 0 to 1000, the second feature may dominate the learning process and make it difficult for the algorithm to learn from the first feature. By normalizing the data, you can ensure that both features are on a similar scale and can be learned from equally.\n",
    "\n",
    "In general, it's a good idea to experiment with different preprocessing steps and see what works best for your specific problem and algorithm.\n",
    "\"\"\""
   ]
  },
  {
   "cell_type": "code",
   "execution_count": 66,
   "metadata": {
    "ExecuteTime": {
     "end_time": "2019-10-31T23:36:28.662099Z",
     "start_time": "2019-10-31T23:36:28.660016Z"
    }
   },
   "outputs": [],
   "source": [
    "preproc_base = ColumnTransformer(\n",
    "    transformers=[\n",
    "        (\"champion\", OneHotEncoder(handle_unknown=\"ignore\"), [\"champion\"]),\n",
    "        (\n",
    "            \"kill-death ratio\",\n",
    "            FunctionTransformer(\n",
    "                lambda df: (df[\"kills\"] / df[\"deaths\"]).astype(\"float32\").replace(np.inf, np.NaN).fillna(0).to_frame()\n",
    "            ),\n",
    "            [\"kills\", \"deaths\"],\n",
    "        ),\n",
    "    ],\n",
    "    remainder=\"drop\",\n",
    ")\n",
    "\n",
    "league_pl_base = Pipeline(\n",
    "    [\n",
    "        (\"preprocessor\", preproc_base),\n",
    "        (\"random-forest\", RandomForestClassifier(random_state=16))\n",
    "    ]\n",
    ")"
   ]
  },
  {
   "cell_type": "code",
   "execution_count": 67,
   "metadata": {},
   "outputs": [
    {
     "data": {
      "text/plain": [
       "(0.9411244979919678, 0.931004016064257)"
      ]
     },
     "execution_count": 67,
     "metadata": {},
     "output_type": "execute_result"
    }
   ],
   "source": [
    "# league_pl.fit(X_train, y_train)\n",
    "# trans = league_pl.transform(X_train)\n",
    "\n",
    "league_pl_base.fit(X_train, y_train)\n",
    "league_pl_base.score(X_train, y_train), league_pl_base.score(X_val, y_val)"
   ]
  },
  {
   "cell_type": "code",
   "execution_count": 72,
   "metadata": {},
   "outputs": [
    {
     "data": {
      "text/plain": [
       "45.00128524379468"
      ]
     },
     "execution_count": 72,
     "metadata": {},
     "output_type": "execute_result"
    }
   ],
   "source": [
    "league[\"visionscore\"].mean()"
   ]
  },
  {
   "cell_type": "code",
   "execution_count": 70,
   "metadata": {},
   "outputs": [
    {
     "data": {
      "text/plain": [
       "bot    15346\n",
       "top    15135\n",
       "sup    14938\n",
       "mid    14666\n",
       "jng    14615\n",
       "dtype: int64"
      ]
     },
     "execution_count": 70,
     "metadata": {},
     "output_type": "execute_result"
    }
   ],
   "source": [
    "pd.Series(league_pl_base.predict(X_train)).value_counts()"
   ]
  },
  {
   "cell_type": "code",
   "execution_count": 71,
   "metadata": {},
   "outputs": [
    {
     "data": {
      "text/plain": [
       "jng    15023\n",
       "sup    15019\n",
       "top    14971\n",
       "bot    14889\n",
       "mid    14798\n",
       "Name: position, dtype: Int64"
      ]
     },
     "execution_count": 71,
     "metadata": {},
     "output_type": "execute_result"
    }
   ],
   "source": [
    "y_train.value_counts()"
   ]
  },
  {
   "attachments": {},
   "cell_type": "markdown",
   "metadata": {},
   "source": [
    "### Final Model"
   ]
  },
  {
   "cell_type": "code",
   "execution_count": 102,
   "metadata": {
    "ExecuteTime": {
     "end_time": "2019-10-31T23:36:28.662099Z",
     "start_time": "2019-10-31T23:36:28.660016Z"
    }
   },
   "outputs": [],
   "source": [
    "preproc_final = ColumnTransformer(\n",
    "    transformers=[\n",
    "        (\"champion\", OneHotEncoder(handle_unknown=\"ignore\"), [\"champion\"]),\n",
    "        (\n",
    "            \"kill-death ratio\",\n",
    "            FunctionTransformer(\n",
    "                lambda df: (df[\"kills\"] / df[\"deaths\"])\n",
    "                .astype(\"float32\")\n",
    "                .replace(np.inf, np.NaN)\n",
    "                .fillna(0)\n",
    "                .to_frame()\n",
    "            ),\n",
    "            [\"kills\", \"deaths\"],\n",
    "        ),\n",
    "        (\n",
    "            \"normalization\",\n",
    "            Pipeline([\n",
    "                (\"impute\", SimpleImputer(strategy=\"constant\", fill_value=0)),\n",
    "                (\"scale\", StandardScaler())\n",
    "            ]),\n",
    "            [\n",
    "                \"visionscore\",\n",
    "                \"earned gpm\",\n",
    "                \"cspm\",\n",
    "                \"vspm\",\n",
    "                \"earnedgold\",\n",
    "                \"wardsplaced\",\n",
    "                \"wpm\",\n",
    "            ],\n",
    "        ),\n",
    "    ],\n",
    "    remainder=\"drop\",\n",
    ")\n",
    "\n",
    "league_pl_final = Pipeline(\n",
    "    [\n",
    "        (\"preprocessor\", preproc_final),\n",
    "        (\"random-forest\", RandomForestClassifier(random_state=16)),\n",
    "    ]\n",
    ")"
   ]
  },
  {
   "cell_type": "code",
   "execution_count": 103,
   "metadata": {},
   "outputs": [
    {
     "name": "stdout",
     "output_type": "stream",
     "text": [
      "visionscore: 10\n",
      "earned gpm: 0\n",
      "cspm: 0\n",
      "vspm: 10\n",
      "earnedgold: 0\n",
      "wardsplaced: 10\n",
      "wpm: 10\n"
     ]
    }
   ],
   "source": [
    "\n",
    "for colname in [\n",
    "                \"visionscore\",\n",
    "                \"earned gpm\",\n",
    "                \"cspm\",\n",
    "                \"vspm\",\n",
    "                \"earnedgold\",\n",
    "                \"wardsplaced\",\n",
    "                \"wpm\",\n",
    "            ]:\n",
    "    print(f\"{colname}: {league[colname].isna().sum()}\")"
   ]
  },
  {
   "cell_type": "code",
   "execution_count": 104,
   "metadata": {},
   "outputs": [
    {
     "data": {
      "text/plain": [
       "(0.9999732262382864, 0.9544578313253012)"
      ]
     },
     "execution_count": 104,
     "metadata": {},
     "output_type": "execute_result"
    }
   ],
   "source": [
    "league_pl_final.fit(X_train, y_train)\n",
    "league_pl_final.score(X_train, y_train), league_pl_final.score(X_val, y_val)"
   ]
  },
  {
   "attachments": {},
   "cell_type": "markdown",
   "metadata": {},
   "source": [
    "### Fairness Analysis\n",
    "\n",
    "Null Hypothesis: Our model is fair. It's accuracy for the Red & Blue sides are roughly the same, and any differences are due to random chance. \n",
    "Alt Hypothesis: Our model is unfair. It's accuracy for the Blue team is higher. "
   ]
  },
  {
   "cell_type": "code",
   "execution_count": 96,
   "metadata": {},
   "outputs": [
    {
     "name": "stdout",
     "output_type": "stream",
     "text": [
      "0.5242570281124498 0.47558232931726907 0.9998393574297189\n"
     ]
    }
   ],
   "source": [
    "blue_wr = league.loc[league[\"side\"] == \"Blue\", \"result\"].mean()\n",
    "red_wr = league.loc[league[\"side\"] == \"Red\", \"result\"].mean()\n",
    "print(blue_wr, red_wr, blue_wr + red_wr)"
   ]
  },
  {
   "cell_type": "code",
   "execution_count": 114,
   "metadata": {},
   "outputs": [
    {
     "data": {
      "text/plain": [
       "0.0010763052208835333"
      ]
     },
     "execution_count": 114,
     "metadata": {},
     "output_type": "execute_result"
    }
   ],
   "source": [
    "def get_test_stat(league_df: pd.DataFrame):\n",
    "    league_df_red = league_df.loc[league_df[\"side\"] == \"Red\"]\n",
    "    red_score = league_pl_final.score(\n",
    "        league_df_red.drop(columns=[\"position\"]), league_df_red[\"position\"]\n",
    "    )\n",
    "\n",
    "    league_df_blue = league_df.loc[league_df[\"side\"] == \"Blue\"]\n",
    "    blue_score = league_pl_final.score(\n",
    "        league_df_blue.drop(columns=[\"position\"]), league_df_blue[\"position\"]\n",
    "    )\n",
    "\n",
    "    return blue_score - red_score\n",
    "\n",
    "observed_test_stat = get_test_stat(league)\n",
    "observed_test_stat"
   ]
  },
  {
   "cell_type": "code",
   "execution_count": 110,
   "metadata": {},
   "outputs": [],
   "source": [
    "league_cp = league.copy()\n",
    "\n",
    "test_stats = []\n",
    "for _ in range(100):\n",
    "    league_cp[\"side\"] = np.random.permutation(league_cp[\"side\"])\n",
    "    test_stats.append(get_test_stat(league_cp))\n",
    "    "
   ]
  },
  {
   "cell_type": "code",
   "execution_count": 112,
   "metadata": {},
   "outputs": [],
   "source": [
    "test_stats_arr = np.array(test_stats)"
   ]
  },
  {
   "cell_type": "code",
   "execution_count": 115,
   "metadata": {},
   "outputs": [
    {
     "data": {
      "text/plain": [
       "0.1"
      ]
     },
     "execution_count": 115,
     "metadata": {},
     "output_type": "execute_result"
    }
   ],
   "source": [
    "(test_stats_arr >= observed_test_stat).mean()"
   ]
  },
  {
   "cell_type": "code",
   "execution_count": 116,
   "metadata": {},
   "outputs": [
    {
     "data": {
      "text/plain": [
       "array([-8.19277108e-04, -1.62248996e-03,  1.07630522e-03,  3.05220884e-04,\n",
       "       -5.62248996e-04, -1.23694779e-03, -1.23694779e-03, -8.19277108e-04,\n",
       "        7.55020080e-04,  2.73092369e-04,  8.19277108e-04,  5.30120482e-04,\n",
       "        7.22891566e-04, -8.19277108e-04, -6.90763052e-04,  8.03212851e-05,\n",
       "       -6.58634538e-04, -7.55020080e-04, -1.76706827e-04,  2.08835341e-04,\n",
       "       -4.01606426e-04, -6.26506024e-04, -1.44578313e-04,  1.33333333e-03,\n",
       "       -4.81927711e-05,  8.19277108e-04,  9.47791165e-04,  3.69477912e-04,\n",
       "        8.19277108e-04, -1.44578313e-04,  1.01204819e-03,  5.62248996e-04,\n",
       "       -2.40963855e-04,  8.03212851e-05,  3.69477912e-04, -3.69477912e-04,\n",
       "        1.60642570e-05, -1.17269076e-03,  1.44578313e-04,  5.94377510e-04,\n",
       "       -9.15662651e-04, -3.69477912e-04,  8.03212851e-05,  1.12449799e-04,\n",
       "       -2.08835341e-04, -1.12449799e-04,  2.08835341e-04,  6.58634538e-04,\n",
       "        4.65863454e-04,  4.81927711e-05,  8.51405622e-04, -6.58634538e-04,\n",
       "        1.10843373e-03, -5.62248996e-04,  5.94377510e-04, -4.97991968e-04,\n",
       "        5.62248996e-04, -2.73092369e-04, -7.22891566e-04, -1.55823293e-03,\n",
       "       -1.76706827e-04,  4.01606426e-04, -5.94377510e-04, -8.19277108e-04,\n",
       "        8.03212851e-05,  3.69477912e-04, -3.69477912e-04,  1.07630522e-03,\n",
       "       -1.30120482e-03,  1.65461847e-03, -1.62248996e-03,  6.26506024e-04,\n",
       "       -4.01606426e-04,  5.94377510e-04,  1.42971888e-03,  9.15662651e-04,\n",
       "        1.60642570e-05,  5.62248996e-04, -4.81927711e-05, -1.26907631e-03,\n",
       "       -1.76706827e-04,  6.90763052e-04, -4.81927711e-05, -4.33734940e-04,\n",
       "       -6.58634538e-04, -5.94377510e-04, -6.26506024e-04,  4.33734940e-04,\n",
       "       -4.65863454e-04,  1.23694779e-03, -3.69477912e-04,  1.26907631e-03,\n",
       "       -8.83534137e-04,  6.26506024e-04, -8.19277108e-04,  1.65461847e-03,\n",
       "       -2.73092369e-04, -8.03212851e-05,  1.52610442e-03,  7.22891566e-04])"
      ]
     },
     "execution_count": 116,
     "metadata": {},
     "output_type": "execute_result"
    }
   ],
   "source": [
    "test_stats_arr"
   ]
  },
  {
   "cell_type": "code",
   "execution_count": 120,
   "metadata": {},
   "outputs": [
    {
     "data": {
      "image/png": "[encoded data removed]",
      "text/plain": [
       "<Figure size 640x480 with 1 Axes>"
      ]
     },
     "metadata": {},
     "output_type": "display_data"
    }
   ],
   "source": [
    "import matplotlib.pyplot as plt\n",
    "\n",
    "plt.hist(test_stats_arr)\n",
    "plt.axvline(x=observed_test_stat, color='red')\n",
    "plt.title('Histogram of Test Statistics')\n",
    "plt.xlabel('Test Statistic (Difference in Accuracy)')\n",
    "plt.ylabel('Frequency')\n",
    "plt.show()"
   ]
  },
  {
   "cell_type": "code",
   "execution_count": null,
   "metadata": {},
   "outputs": [],
   "source": []
  },
  {
   "cell_type": "code",
   "execution_count": null,
   "metadata": {},
   "outputs": [],
   "source": [
    "# Simulating under the null\n"
   ]
  },
  {
   "cell_type": "code",
   "execution_count": null,
   "metadata": {
    "ExecuteTime": {
     "end_time": "2019-10-31T23:36:28.666489Z",
     "start_time": "2019-10-31T23:36:28.664381Z"
    }
   },
   "outputs": [],
   "source": [
    "# TODO"
   ]
  }
 ],
 "metadata": {
  "kernelspec": {
   "display_name": "Python 3 (ipykernel)",
   "language": "python",
   "name": "python3"
  },
  "language_info": {
   "codemirror_mode": {
    "name": "ipython",
    "version": 3
   },
   "file_extension": ".py",
   "mimetype": "text/x-python",
   "name": "python",
   "nbconvert_exporter": "python",
   "pygments_lexer": "ipython3",
   "version": "3.8.16"
  }
 },
 "nbformat": 4,
 "nbformat_minor": 2
}
